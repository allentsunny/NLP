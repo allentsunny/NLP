{
 "cells": [
  {
   "cell_type": "code",
   "execution_count": 7,
   "id": "a4faa15b-aed2-4ce4-8ec7-c922f0daf72e",
   "metadata": {},
   "outputs": [
    {
     "name": "stdout",
     "output_type": "stream",
     "text": [
      "sentiment.polarity:0.5625\n",
      "sentiment.subjectivity:0.8374999999999999\n"
     ]
    }
   ],
   "source": [
    "# useing textblob\n",
    "from textblob import TextBlob\n",
    "text=\"I had a fantastic day at the park. The weather was beautiful, and I enjoyed a lovely picnic with friends. However, the park was a bit crowded.\"\n",
    "blob=TextBlob(text)\n",
    "sentiment=blob.sentiment\n",
    "\n",
    "print(f\"sentiment.polarity:{sentiment.polarity}\")\n",
    "print(f\"sentiment.subjectivity:{sentiment.subjectivity}\")"
   ]
  },
  {
   "cell_type": "code",
   "execution_count": null,
   "id": "1f6518e3-ebf5-4f7f-a21d-85b4f63d459b",
   "metadata": {},
   "outputs": [],
   "source": []
  }
 ],
 "metadata": {
  "kernelspec": {
   "display_name": "Python 3 (ipykernel)",
   "language": "python",
   "name": "python3"
  },
  "language_info": {
   "codemirror_mode": {
    "name": "ipython",
    "version": 3
   },
   "file_extension": ".py",
   "mimetype": "text/x-python",
   "name": "python",
   "nbconvert_exporter": "python",
   "pygments_lexer": "ipython3",
   "version": "3.12.4"
  }
 },
 "nbformat": 4,
 "nbformat_minor": 5
}
