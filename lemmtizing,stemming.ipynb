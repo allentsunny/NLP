{
 "cells": [
  {
   "cell_type": "code",
   "execution_count": 1,
   "id": "6f26e569-b914-4f97-b9a3-884b7f8952b6",
   "metadata": {},
   "outputs": [],
   "source": [
    "import nltk\n",
    "from nltk.stem import PorterStemmer\n",
    "ps=PorterStemmer()"
   ]
  },
  {
   "cell_type": "code",
   "execution_count": 5,
   "id": "678a0285-26da-4844-90a3-969dd0e83de1",
   "metadata": {},
   "outputs": [
    {
     "data": {
      "text/plain": [
       "'eat'"
      ]
     },
     "execution_count": 5,
     "metadata": {},
     "output_type": "execute_result"
    }
   ],
   "source": [
    "ps.stem('eating')"
   ]
  },
  {
   "cell_type": "code",
   "execution_count": 9,
   "id": "ff225838-f555-43e0-b9f3-ae2c5040d9a5",
   "metadata": {},
   "outputs": [
    {
     "data": {
      "text/plain": [
       "'wait'"
      ]
     },
     "execution_count": 9,
     "metadata": {},
     "output_type": "execute_result"
    }
   ],
   "source": [
    "# lancastStemmer\n",
    "from nltk.stem import LancasterStemmer\n",
    "ls=LancasterStemmer()\n",
    "ls.stem('waiting')"
   ]
  },
  {
   "cell_type": "code",
   "execution_count": 11,
   "id": "7e94fcc5-5f9b-4d89-815f-66566f7d09eb",
   "metadata": {},
   "outputs": [
    {
     "data": {
      "text/plain": [
       "'wash'"
      ]
     },
     "execution_count": 11,
     "metadata": {},
     "output_type": "execute_result"
    }
   ],
   "source": [
    "#regexpstemmer\n",
    "from nltk.stem import RegexpStemmer\n",
    "rs=RegexpStemmer('ing')\n",
    "rs.stem('ingwash')"
   ]
  },
  {
   "cell_type": "code",
   "execution_count": 13,
   "id": "f27683f2-8202-497a-b0bc-c2b7d579243d",
   "metadata": {},
   "outputs": [
    {
     "data": {
      "text/plain": [
       "'eat'"
      ]
     },
     "execution_count": 13,
     "metadata": {},
     "output_type": "execute_result"
    }
   ],
   "source": [
    "rs=RegexpStemmer('s')\n",
    "rs.stem('eats')"
   ]
  },
  {
   "cell_type": "code",
   "execution_count": 15,
   "id": "882772d5-3a91-4eea-be8a-9809cd2733c0",
   "metadata": {},
   "outputs": [
    {
     "data": {
      "text/plain": [
       "'bonjour'"
      ]
     },
     "execution_count": 15,
     "metadata": {},
     "output_type": "execute_result"
    }
   ],
   "source": [
    "#snowball stemmer\n",
    "from nltk.stem import SnowballStemmer\n",
    "ss=SnowballStemmer('french')\n",
    "ss.stem('Bonjour')"
   ]
  },
  {
   "cell_type": "code",
   "execution_count": 17,
   "id": "c939f698-e92b-4900-a612-af045ec5bdd3",
   "metadata": {},
   "outputs": [
    {
     "name": "stderr",
     "output_type": "stream",
     "text": [
      "[nltk_data] Downloading package wordnet to\n",
      "[nltk_data]     C:\\Users\\Asus\\AppData\\Roaming\\nltk_data...\n"
     ]
    },
    {
     "data": {
      "text/plain": [
       "True"
      ]
     },
     "execution_count": 17,
     "metadata": {},
     "output_type": "execute_result"
    }
   ],
   "source": [
    " nltk.download('wordnet')"
   ]
  },
  {
   "cell_type": "code",
   "execution_count": 19,
   "id": "686e5107-975e-4895-af85-034450e30d87",
   "metadata": {},
   "outputs": [
    {
     "data": {
      "text/plain": [
       "'eating'"
      ]
     },
     "execution_count": 19,
     "metadata": {},
     "output_type": "execute_result"
    }
   ],
   "source": [
    "#lemmatizer\n",
    "from nltk.stem import WordNetLemmatizer\n",
    "lm = WordNetLemmatizer()\n",
    "lw=lm.lemmatize('eating')\n",
    "lw"
   ]
  },
  {
   "cell_type": "code",
   "execution_count": null,
   "id": "9bb7d15f-8956-43fd-8890-5a6e0cb05fbc",
   "metadata": {},
   "outputs": [],
   "source": []
  }
 ],
 "metadata": {
  "kernelspec": {
   "display_name": "Python 3 (ipykernel)",
   "language": "python",
   "name": "python3"
  },
  "language_info": {
   "codemirror_mode": {
    "name": "ipython",
    "version": 3
   },
   "file_extension": ".py",
   "mimetype": "text/x-python",
   "name": "python",
   "nbconvert_exporter": "python",
   "pygments_lexer": "ipython3",
   "version": "3.12.4"
  }
 },
 "nbformat": 4,
 "nbformat_minor": 5
}
